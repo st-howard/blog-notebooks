{
 "cells": [
  {
   "cell_type": "markdown",
   "id": "b0f0571e",
   "metadata": {
    "toc": true
   },
   "source": [
    "<h1>Table of Contents<span class=\"tocSkip\"></span></h1>\n",
    "<div class=\"toc\"><ul class=\"toc-item\"><li><span><a href=\"#Diffusing-Digits---Generating-MNIST-Digits-from-noise-with-HuggingFace-Diffusers\" data-toc-modified-id=\"Diffusing-Digits---Generating-MNIST-Digits-from-noise-with-HuggingFace-Diffusers-1\">Diffusing Digits - Generating MNIST Digits from noise with HuggingFace Diffusers</a></span><ul class=\"toc-item\"><li><span><a href=\"#Diffusion-Models---Quick-and-Dirty\" data-toc-modified-id=\"Diffusion-Models---Quick-and-Dirty-1.1\">Diffusion Models - Quick and Dirty</a></span><ul class=\"toc-item\"><li><span><a href=\"#Diffusion-Models---Training\" data-toc-modified-id=\"Diffusion-Models---Training-1.1.1\">Diffusion Models - Training</a></span></li><li><span><a href=\"#Diffusion-Models---Sampling\" data-toc-modified-id=\"Diffusion-Models---Sampling-1.1.2\">Diffusion Models - Sampling</a></span></li></ul></li><li><span><a href=\"#Outline\" data-toc-modified-id=\"Outline-1.2\">Outline</a></span></li><li><span><a href=\"#Defining-Hyperparameters\" data-toc-modified-id=\"Defining-Hyperparameters-1.3\">Defining Hyperparameters</a></span></li><li><span><a href=\"#Preparing-MNIST-Dataset\" data-toc-modified-id=\"Preparing-MNIST-Dataset-1.4\">Preparing MNIST Dataset</a></span><ul class=\"toc-item\"><li><span><a href=\"#Downloading-MNIST-with-HuggingFace-datasets\" data-toc-modified-id=\"Downloading-MNIST-with-HuggingFace-datasets-1.4.1\">Downloading MNIST with HuggingFace <code>datasets</code></a></span></li><li><span><a href=\"#Data-Preprocessing-and-Augmentation\" data-toc-modified-id=\"Data-Preprocessing-and-Augmentation-1.4.2\">Data Preprocessing and Augmentation</a></span></li></ul></li><li><span><a href=\"#Creating-the-Diffusion-Model\" data-toc-modified-id=\"Creating-the-Diffusion-Model-1.5\">Creating the Diffusion Model</a></span><ul class=\"toc-item\"><li><span><a href=\"#U-Net-for-MNIST\" data-toc-modified-id=\"U-Net-for-MNIST-1.5.1\">U-Net for MNIST</a></span></li><li><span><a href=\"#Noise-Scheduler\" data-toc-modified-id=\"Noise-Scheduler-1.5.2\">Noise Scheduler</a></span></li><li><span><a href=\"#Optimizer\" data-toc-modified-id=\"Optimizer-1.5.3\">Optimizer</a></span></li><li><span><a href=\"#Learning-Rate-Scheduler\" data-toc-modified-id=\"Learning-Rate-Scheduler-1.5.4\">Learning Rate Scheduler</a></span></li></ul></li><li><span><a href=\"#Training-the-Model\" data-toc-modified-id=\"Training-the-Model-1.6\">Training the Model</a></span><ul class=\"toc-item\"><li><span><a href=\"#Working-with-memory-restrictions\" data-toc-modified-id=\"Working-with-memory-restrictions-1.6.1\">Working with memory restrictions</a></span></li><li><span><a href=\"#Creating-and-Running-Training-Loop\" data-toc-modified-id=\"Creating-and-Running-Training-Loop-1.6.2\">Creating and Running Training Loop</a></span></li></ul></li><li><span><a href=\"#Create-a-sampling-function\" data-toc-modified-id=\"Create-a-sampling-function-1.7\">Create a sampling function</a></span></li><li><span><a href=\"#Sample-some-good-looking-digits!\" data-toc-modified-id=\"Sample-some-good-looking-digits!-1.8\">Sample some good looking digits!</a></span></li></ul></li></ul></div>"
   ]
  },
  {
   "cell_type": "markdown",
   "id": "03c66b08",
   "metadata": {},
   "source": [
    "# Diffusing Digits - Generating MNIST Digits from noise with HuggingFace Diffusers\n",
    "\n",
    "Diffusion models have become the state of the art generative model by learning how to progressively remove \"noise\" from a randomly generated noise field until the sample matches the training data distribution. Diffusion models are a fundamental part of several noteworthy text to image models, including Imagen, DALLE-2, and Stable Diffusion. However, they are capabilities beyond text to image generation and are applicable to a large variety of generative tasks.\n",
    "\n",
    "Here a minimal diffusion model is trained on the iconic [MNIST Digits](http://yann.lecun.com/exdb/mnist/) database using several [HuggingFace](https://huggingface.co/) libraries. The flow follows that of the [example](https://github.com/huggingface/diffusers/blob/main/docs/source/training/overview.mdx) HuggingFace notebook for unconditional image generation. I chose HuggingFace libraries for the implementation to learn their framework and I found that they were a nice balance between coding everything up in raw PyTorch (as was done in [HuggingFace annotated diffusion blog post](https://huggingface.co/blog/annotated-diffusion)) and tailored implementations such as Phil Wang's [denoising-diffusion-pytorch](https://github.com/lucidrains/denoising-diffusion-pytorch)."
   ]
  },
  {
   "cell_type": "markdown",
   "id": "1fb760bd",
   "metadata": {
    "heading_collapsed": true
   },
   "source": [
    "## Diffusion Models - Quick and Dirty\n",
    "\n",
    "Conceptually, diffusion models are built upon a series of noising and denoising steps. In the noising process, random Gaussian noise is iteratively added to data (typically an image but can be any numeric datatype). After many steps of adding noise, the original data becomes indistinguishable from Gaussian noise. This noising process is going from __right to left__ in the below figure from the [Denoising Diffusion Probabilistic Models paper](https://arxiv.org/abs/2006.11239) (often referred to as DDPM). In practice, getting from the original data to the step $t$ of the noising process can be done in one go based upon convenient properties of Gaussians.\n",
    "\n",
    "![Diffusion Process](https://huggingface.co/blog/assets/78_annotated-diffusion/diffusion_figure.png)\n",
    "\n",
    "The real juice of diffusion models is the denoising process. In the figure above, each denoising step (__left to right__ in above figure), attempts to remove the noise added from previous step. Given noisy data, the diffusion model tries to predict the noise present in the data (slightly different to the above depiction which shows the model learning the conditional probability distribution $p(x_{t-1} | x_t)$). This noise is iteratively removed until the denoised data, which by characteristic of the training distribution, is left. \n",
    "\n",
    "Diffusion models can be broken down into two algorithms, one for training and one for sampling.\n",
    "\n",
    "### Diffusion Models - Training\n",
    "The training algorithm is relatively simple and follow the steps\n",
    "- Take data from training distribution\n",
    "- Randomly select a step within the noisig/denoising process\n",
    "- Sample random Gaussian noise with zero mean and unit variance\n",
    "- Take noise field and data from training distribution and noise it to selected step from noising process.\n",
    "- Predict the noise present in the noisy data\n",
    "- Update model based upon mean squared error of actual noise and predicted noise\n",
    "\n",
    "Which is shown in the psuedocode from the [Ho et. al paper](https://arxiv.org/abs/2006.11239).\n",
    "\n",
    "![Training Pseudocode](https://huggingface.co/blog/assets/78_annotated-diffusion/training.png)\n",
    "\n",
    "### Diffusion Models - Sampling\n",
    "With a model that takes a noisy image and predicts the noise given the step in the noising chain, can iteratively denoise the data with the following steps\n",
    "- Generate the fully noised data at last step $T$\n",
    "- For each step in the chain, predict the noise in the image and remove some fraction of it.\n",
    "\n",
    "Which is shown in the pseudocode\n",
    "\n",
    "![Sampling Psuedocode](https://huggingface.co/blog/assets/78_annotated-diffusion/sampling.png)\n",
    "\n",
    "There are details about noise and learning rate schedules which were omitted from the above, but covered in the [annotated diffusion blog post](https://huggingface.co/blog/annotated-diffusion)"
   ]
  },
  {
   "cell_type": "markdown",
   "id": "964306de",
   "metadata": {},
   "source": [
    "##  Outline\n",
    "\n",
    "In creating a diffusion model with HuggingFace, I found there to be __4__ main stages after choosing the hyperparameters, each with defined subtasks. I've shown an outline below\n",
    "\n",
    "0. Defining Hyperparameters\n",
    "1. Preparing Dataset\n",
    "    * Downloading MNIST with HuggingFace `datasets`\n",
    "    * Data preprocessing and augmentation\n",
    "2. Creating the Diffusion Model\n",
    "    * U-Net for MNIST\n",
    "    * Noise Scheduler\n",
    "    * Optimizer\n",
    "    * Learning Rate Scheduler\n",
    "3. Training the Model\n",
    "    * HuggingFace Accelerator\n",
    "    * Working with memory restrictions\n",
    "    * Creating and running training script\n",
    "4. Generating Images\n",
    "    * Huggingface pipelines for inference"
   ]
  },
  {
   "cell_type": "code",
   "execution_count": 29,
   "id": "36559963",
   "metadata": {
    "ExecuteTime": {
     "end_time": "2022-09-17T19:09:05.423568Z",
     "start_time": "2022-09-17T19:09:05.419411Z"
    }
   },
   "outputs": [],
   "source": [
    "# Imports\n",
    "\n",
    "# Pytorch\n",
    "import torch\n",
    "import torchvision\n",
    "\n",
    "# HuggingFace\n",
    "import datasets\n",
    "import diffusers\n",
    "import accelerate\n",
    "\n",
    "# Training and Visualization\n",
    "from tqdm.auto import tqdm\n",
    "import matplotlib.pyplot as plt\n",
    "import os\n",
    "import PIL"
   ]
  },
  {
   "cell_type": "markdown",
   "id": "f47f48a2",
   "metadata": {},
   "source": [
    "## Defining Hyperparameters\n",
    "\n",
    "In the training config class shown below, I've chosen an image size of 32x32 instead of the default MNIST resolution of 28x28. This slight upscaling is in order to make the image width/height be a power of 2, i.e. $2^5$. In the default U-Net architecture, each downsampling layer reduces the width and height of the image by 2. Therefore after the three downsampling blocks I used in the U-Net, the output size will be 4x4x$N$, where $N$ is a configurable parameter of the model architecture. As the width and height of the image is reduced, the number of learned channels increases. So in the U-Net configured here, the bottleneck layer has dimension of 4x4x512.\n",
    "\n",
    "The batch sizes chosen are done in order to comfortably fit on a 8 GB memory GPU. I find that training occupies approximately 4 GB of memory. Since one epoch contains all sixty thousand training examples, only a couple epochs are needed for the model to converge, with most of the learning being done within the first epoch.\n",
    "\n",
    "The `lr_warmup_steps` is the number of mini-batches where the learning rate is increased until hitting the base learning rate listed in `learning_rate`. After the learning rate reaches this value, a cosine scheduler is used to slowly decrease the learning rate, as described in [Improved Denoising Diffusion Probabilistic Models](https://arxiv.org/abs/2102.09672)."
   ]
  },
  {
   "cell_type": "code",
   "execution_count": 30,
   "id": "f37a85df",
   "metadata": {
    "ExecuteTime": {
     "end_time": "2022-09-17T19:09:07.022517Z",
     "start_time": "2022-09-17T19:09:07.018639Z"
    }
   },
   "outputs": [],
   "source": [
    "from dataclasses import dataclass\n",
    "\n",
    "@dataclass\n",
    "class TrainingConfig:\n",
    "    image_size=32 #Resize the digits to be a power of two\n",
    "    train_batch_size = 32\n",
    "    eval_batch_size = 32\n",
    "    num_epochs = 2\n",
    "    gradient_accumulation_steps = 1\n",
    "    learning_rate = 1e-4\n",
    "    lr_warmpup_steps = 500\n",
    "    mixed_precision = 'fp16'\n",
    "    seed = 0\n",
    "    \n",
    "config = TrainingConfig()"
   ]
  },
  {
   "cell_type": "markdown",
   "id": "66e8c9e7",
   "metadata": {},
   "source": [
    "## Preparing MNIST Dataset\n",
    "\n",
    "### Downloading MNIST with HuggingFace `datasets`\n",
    "\n",
    "HuggingFace has almost ten thousand dataset for download, which can be searched from the [datasets tab](https://huggingface.co/datasets) of their website. They can be downloaded with their `datasets` python library and the [`load_dataset()`](https://huggingface.co/docs/datasets/loading) function. \n",
    "\n",
    "If not specified, the data will be downloaded to the `~/.cache` directory. If you want to put the files in another location, either specify the `data_dir` optional argument or change the environment variable `HF_DATASETS_CACHE` to the desired path.\n",
    "\n",
    "Here MNIST digits are loaded into a `Dataset` object, where metadata, labels, and images can be accessed in a manner similar to python dictionaries."
   ]
  },
  {
   "cell_type": "code",
   "execution_count": 31,
   "id": "17e41b17",
   "metadata": {
    "ExecuteTime": {
     "end_time": "2022-09-17T19:09:08.430032Z",
     "start_time": "2022-09-17T19:09:08.068072Z"
    }
   },
   "outputs": [
    {
     "name": "stderr",
     "output_type": "stream",
     "text": [
      "Reusing dataset mnist (/c/Users/showa/Documents/Datasets/HuggingFace/mnist/mnist/1.0.0/fda16c03c4ecfb13f165ba7e29cf38129ce035011519968cdaf74894ce91c9d4)\n"
     ]
    }
   ],
   "source": [
    "mnist_dataset = datasets.load_dataset('mnist', split='train')"
   ]
  },
  {
   "cell_type": "markdown",
   "id": "84aa49fb",
   "metadata": {},
   "source": [
    "The dataset object is conveniently accessible with methods similar to a python dictionary"
   ]
  },
  {
   "cell_type": "code",
   "execution_count": 32,
   "id": "ae5c0755",
   "metadata": {
    "ExecuteTime": {
     "end_time": "2022-09-17T19:09:11.345817Z",
     "start_time": "2022-09-17T19:09:11.341300Z"
    }
   },
   "outputs": [
    {
     "data": {
      "text/plain": [
       "Dataset({\n",
       "    features: ['image', 'label'],\n",
       "    num_rows: 60000\n",
       "})"
      ]
     },
     "execution_count": 32,
     "metadata": {},
     "output_type": "execute_result"
    }
   ],
   "source": [
    "mnist_dataset"
   ]
  },
  {
   "cell_type": "code",
   "execution_count": 74,
   "id": "44edf462",
   "metadata": {
    "ExecuteTime": {
     "end_time": "2022-09-17T19:40:29.447480Z",
     "start_time": "2022-09-17T19:40:29.439639Z"
    }
   },
   "outputs": [
    {
     "data": {
      "image/png": "[encoded data removed]",
      "text/plain": [
       "<PIL.Image.Image image mode=L size=256x256>"
      ]
     },
     "metadata": {},
     "output_type": "display_data"
    },
    {
     "name": "stdout",
     "output_type": "stream",
     "text": [
      "Image Size: (28, 28)\n",
      "Digit is labelled: 5\n"
     ]
    }
   ],
   "source": [
    "mnist_dataset[0][\"image\"].resize((256, 256)).show()\n",
    "print(\"Image Size:\", mnist_dataset[0][\"image\"].size)\n",
    "print(\"Digit is labelled:\", mnist_dataset[0]['label'])"
   ]
  },
  {
   "cell_type": "markdown",
   "id": "1764e533",
   "metadata": {},
   "source": [
    "### Data Preprocessing and Augmentation\n",
    "\n",
    "As downloaded, the MNIST dataset contains 60,000 PIL images with pixel values in the range of $[0,255]$. The data must be scaled, resized, and turned into a tensor for ingestion by a PyTorch model. These transformations can be handled by torchvision's transforms library. Transform objects can be sequentially listed in a Compose constructor, which will apply then apply the transformations when an image is passed as an argument.\n",
    "\n",
    "Three transforms are used. The first transforms the image to 32x32, in order to for the image width/height to be a power of two. The second transform turns the PIL image to a PyTorch tensor. When converting to a PyTorch tensor, the pixel range is transformed from $[0,255]$ to $[0,1]$. However, for the diffusion model the required pixel value range needs to be $[-1,1]$ since the Gaussian noise is zero mean, unit variance. Therefore, a lambda function is used to define a transform from $[0,1]$ to $[-1,1]$. \n",
    "\n",
    "The `Datasets` object has a method `set_transform()` which applies a function which takes the dataset object as an argument. Here the method is used to apply the torchvision transforms to the MNIST dataset."
   ]
  },
  {
   "cell_type": "code",
   "execution_count": 6,
   "id": "4110940a",
   "metadata": {
    "ExecuteTime": {
     "end_time": "2022-09-17T18:36:52.581835Z",
     "start_time": "2022-09-17T18:36:52.578324Z"
    }
   },
   "outputs": [],
   "source": [
    "def transform(dataset):\n",
    "    preprocess = torchvision.transforms.Compose(\n",
    "        [\n",
    "            torchvision.transforms.Resize(\n",
    "                (config.image_size, config.image_size)),\n",
    "            torchvision.transforms.ToTensor(),\n",
    "            torchvision.transforms.Lambda(lambda x: 2*(x-0.5)),\n",
    "        ]\n",
    "    )\n",
    "    images = [preprocess(image) for image in dataset[\"image\"]]\n",
    "    return {\"images\": images}"
   ]
  },
  {
   "cell_type": "code",
   "execution_count": 7,
   "id": "a4a25087",
   "metadata": {
    "ExecuteTime": {
     "end_time": "2022-09-17T18:36:52.592290Z",
     "start_time": "2022-09-17T18:36:52.583660Z"
    }
   },
   "outputs": [],
   "source": [
    "mnist_dataset.reset_format()\n",
    "mnist_dataset.set_transform(transform)"
   ]
  },
  {
   "cell_type": "markdown",
   "id": "674246ea",
   "metadata": {
    "ExecuteTime": {
     "end_time": "2022-09-12T01:45:48.940200Z",
     "start_time": "2022-09-12T01:45:48.932511Z"
    }
   },
   "source": [
    "Once the dataset has been prepared with the proper transformers, it is ready to be passed directly into a PyTorch DataLoader."
   ]
  },
  {
   "cell_type": "code",
   "execution_count": 8,
   "id": "f066d1e9",
   "metadata": {
    "ExecuteTime": {
     "end_time": "2022-09-17T18:36:52.600239Z",
     "start_time": "2022-09-17T18:36:52.594435Z"
    }
   },
   "outputs": [],
   "source": [
    "train_dataloader = torch.utils.data.DataLoader(\n",
    "    mnist_dataset,\n",
    "    batch_size = config.train_batch_size,\n",
    "    shuffle = True,\n",
    ")"
   ]
  },
  {
   "cell_type": "markdown",
   "id": "3b06ff26",
   "metadata": {
    "ExecuteTime": {
     "end_time": "2022-09-12T01:52:10.455182Z",
     "start_time": "2022-09-12T01:52:10.452566Z"
    }
   },
   "source": [
    "## Creating the Diffusion Model\n",
    "\n",
    "### U-Net for MNIST\n",
    "\n",
    "The workhorse of the denoising diffusion model is a U-Net, which is predicts the noise present in the input image conditioned on the step in the noising process. HuggingFace's Diffusers library has default a [U-Net class](https://huggingface.co/docs/diffusers/api/models#diffusers.UNet2DModel) which creates a PyTorch model based upon the input values. Here the input and output channels are set to one since the image is black and white. The rest of the parameters mirror the choices found in the example notebook from HuggingFace. "
   ]
  },
  {
   "cell_type": "code",
   "execution_count": 75,
   "id": "60d5eaf0",
   "metadata": {
    "ExecuteTime": {
     "end_time": "2022-09-17T20:02:12.661437Z",
     "start_time": "2022-09-17T20:02:11.465297Z"
    }
   },
   "outputs": [],
   "source": [
    "model = diffusers.UNet2DModel(\n",
    "    sample_size=config.image_size,\n",
    "    in_channels=1,\n",
    "    out_channels=1,\n",
    "    layers_per_block=2,\n",
    "    block_out_channels=(128,128,256,512),\n",
    "    down_block_types=(\n",
    "        \"DownBlock2D\",\n",
    "        \"DownBlock2D\",\n",
    "        \"AttnDownBlock2D\",\n",
    "        \"DownBlock2D\",\n",
    "    ),\n",
    "    up_block_types=(\n",
    "        \"UpBlock2D\",\n",
    "        \"AttnUpBlock2D\",\n",
    "        \"UpBlock2D\",\n",
    "        \"UpBlock2D\",\n",
    "    ),\n",
    ")"
   ]
  },
  {
   "cell_type": "code",
   "execution_count": 10,
   "id": "4334941a",
   "metadata": {
    "ExecuteTime": {
     "end_time": "2022-09-17T18:36:55.229212Z",
     "start_time": "2022-09-17T18:36:55.222006Z"
    }
   },
   "outputs": [
    {
     "name": "stdout",
     "output_type": "stream",
     "text": [
      "Input shape: torch.Size([1, 1, 32, 32])\n"
     ]
    }
   ],
   "source": [
    "sample_image = mnist_dataset[0][\"images\"].unsqueeze(0)\n",
    "print(\"Input shape:\", sample_image.shape)"
   ]
  },
  {
   "cell_type": "code",
   "execution_count": 11,
   "id": "ae6e3a87",
   "metadata": {
    "ExecuteTime": {
     "end_time": "2022-09-17T18:36:55.691263Z",
     "start_time": "2022-09-17T18:36:55.231567Z"
    }
   },
   "outputs": [
    {
     "name": "stdout",
     "output_type": "stream",
     "text": [
      "Output shape: torch.Size([1, 1, 32, 32])\n"
     ]
    }
   ],
   "source": [
    "print('Output shape:', model(sample_image, timestep=0)[\"sample\"].shape)"
   ]
  },
  {
   "cell_type": "markdown",
   "id": "017816e7",
   "metadata": {},
   "source": [
    "### Noise Scheduler"
   ]
  },
  {
   "cell_type": "code",
   "execution_count": 12,
   "id": "5f6259fc",
   "metadata": {
    "ExecuteTime": {
     "end_time": "2022-09-17T18:36:55.698519Z",
     "start_time": "2022-09-17T18:36:55.694677Z"
    }
   },
   "outputs": [],
   "source": [
    "noise_scheduler = diffusers.DDPMScheduler(num_train_timesteps=200, tensor_format='pt')"
   ]
  },
  {
   "cell_type": "code",
   "execution_count": 13,
   "id": "fa706b4b",
   "metadata": {
    "ExecuteTime": {
     "end_time": "2022-09-17T18:36:55.717830Z",
     "start_time": "2022-09-17T18:36:55.701029Z"
    },
    "scrolled": true
   },
   "outputs": [
    {
     "data": {
      "image/png": "[encoded data removed]",
      "text/plain": [
       "<PIL.Image.Image image mode=L size=256x256>"
      ]
     },
     "execution_count": 13,
     "metadata": {},
     "output_type": "execute_result"
    }
   ],
   "source": [
    "noise = torch.randn(sample_image.shape)\n",
    "timesteps = torch.LongTensor([199])\n",
    "noisy_image = noise_scheduler.add_noise(sample_image,noise,timesteps)\n",
    "\n",
    "torchvision.transforms.ToPILImage()(noisy_image.squeeze(1)).resize((256,256))"
   ]
  },
  {
   "cell_type": "markdown",
   "id": "5c844162",
   "metadata": {},
   "source": [
    "### Optimizer"
   ]
  },
  {
   "cell_type": "code",
   "execution_count": 14,
   "id": "aef0fb3f",
   "metadata": {
    "ExecuteTime": {
     "end_time": "2022-09-17T18:36:55.723439Z",
     "start_time": "2022-09-17T18:36:55.719755Z"
    }
   },
   "outputs": [],
   "source": [
    "optimizer = torch.optim.AdamW(model.parameters(),lr=config.learning_rate)"
   ]
  },
  {
   "cell_type": "markdown",
   "id": "d2e0a0e6",
   "metadata": {},
   "source": [
    "### Learning Rate Scheduler"
   ]
  },
  {
   "cell_type": "code",
   "execution_count": 15,
   "id": "808b73a5",
   "metadata": {
    "ExecuteTime": {
     "end_time": "2022-09-17T18:36:55.731258Z",
     "start_time": "2022-09-17T18:36:55.725336Z"
    }
   },
   "outputs": [],
   "source": [
    "# Cosine learning rate scheduler\n",
    "\n",
    "lr_scheduler = diffusers.optimization.get_cosine_schedule_with_warmup(\n",
    "    optimizer=optimizer,\n",
    "    num_warmup_steps=config.lr_warmpup_steps,\n",
    "    num_training_steps=(len(train_dataloader)*config.num_epochs),\n",
    ")"
   ]
  },
  {
   "cell_type": "markdown",
   "id": "360df078",
   "metadata": {},
   "source": [
    "## Training the Model"
   ]
  },
  {
   "cell_type": "markdown",
   "id": "c0d2711c",
   "metadata": {},
   "source": [
    "### Working with memory restrictions"
   ]
  },
  {
   "cell_type": "code",
   "execution_count": 16,
   "id": "3a6becc3",
   "metadata": {
    "ExecuteTime": {
     "end_time": "2022-09-17T18:37:05.916166Z",
     "start_time": "2022-09-17T18:36:55.733322Z"
    }
   },
   "outputs": [],
   "source": [
    "torch.cuda.set_per_process_memory_fraction(7./8., 0)"
   ]
  },
  {
   "cell_type": "markdown",
   "id": "0fc7a322",
   "metadata": {},
   "source": [
    "### Creating and Running Training Loop"
   ]
  },
  {
   "cell_type": "code",
   "execution_count": 17,
   "id": "10bbbe3c",
   "metadata": {
    "ExecuteTime": {
     "end_time": "2022-09-17T18:37:05.935161Z",
     "start_time": "2022-09-17T18:37:05.928480Z"
    }
   },
   "outputs": [],
   "source": [
    "def train_loop(\n",
    "        config,\n",
    "        model,\n",
    "        noise_scheduler,\n",
    "        optimizer,\n",
    "        train_dataloader,\n",
    "        lr_scheduler):\n",
    "\n",
    "    accelerator = accelerate.Accelerator(\n",
    "        mixed_precision=config.mixed_precision,\n",
    "        gradient_accumulation_steps=config.gradient_accumulation_steps,\n",
    "    )\n",
    "\n",
    "    model, optimizer, train_dataloader, lr_scheduler = accelerator.prepare(\n",
    "        model, optimizer, train_dataloader, lr_scheduler\n",
    "    )\n",
    "\n",
    "    for epoch in range(config.num_epochs):\n",
    "        progress_bar = tqdm(total=len(train_dataloader),\n",
    "                            disable=not accelerator.is_local_main_process)\n",
    "        progress_bar.set_description(f\"Epoch {epoch}\")\n",
    "\n",
    "        for step, batch in enumerate(train_dataloader):\n",
    "            clean_images = batch['images']\n",
    "\n",
    "            noise = torch.randn(clean_images.shape).to(clean_images.device)\n",
    "            batch_size = clean_images.shape[0]\n",
    "\n",
    "            # Sample a set of random time steps for each image in mini-batch\n",
    "            timesteps = torch.randint(\n",
    "                0, noise_scheduler.num_train_timesteps, (batch_size,), device=clean_images.device)\n",
    "            \n",
    "            noisy_images=noise_scheduler.add_noise(clean_images, noise, timesteps)\n",
    "            \n",
    "            with accelerator.accumulate(model):\n",
    "                noise_pred = model(noisy_images,timesteps)[\"sample\"]\n",
    "                loss = torch.nn.functional.mse_loss(noise_pred,noise)\n",
    "                accelerator.backward(loss)\n",
    "                \n",
    "                accelerator.clip_grad_norm_(model.parameters(),1.0)\n",
    "                optimizer.step()\n",
    "                lr_scheduler.step()\n",
    "                optimizer.zero_grad()\n",
    "                \n",
    "            progress_bar.update(1)\n",
    "            logs = {\n",
    "                \"loss\" : loss.detach().item(),\n",
    "                \"lr\" : lr_scheduler.get_last_lr()[0],\n",
    "            }\n",
    "            progress_bar.set_postfix(**logs)\n",
    "    \n",
    "    accelerator.unwrap_model(model)"
   ]
  },
  {
   "cell_type": "code",
   "execution_count": 18,
   "id": "a01e4ad6",
   "metadata": {
    "ExecuteTime": {
     "end_time": "2022-09-17T19:07:16.277128Z",
     "start_time": "2022-09-17T18:37:05.938180Z"
    },
    "scrolled": true
   },
   "outputs": [
    {
     "name": "stdout",
     "output_type": "stream",
     "text": [
      "Launching training on one GPU.\n"
     ]
    },
    {
     "data": {
      "application/vnd.jupyter.widget-view+json": {
       "model_id": "11872a99db2245de94d043daf0389fd4",
       "version_major": 2,
       "version_minor": 0
      },
      "text/plain": [
       "  0%|          | 0/1875 [00:00<?, ?it/s]"
      ]
     },
     "metadata": {},
     "output_type": "display_data"
    },
    {
     "data": {
      "application/vnd.jupyter.widget-view+json": {
       "model_id": "230aa98569d24597973a67150985b0a7",
       "version_major": 2,
       "version_minor": 0
      },
      "text/plain": [
       "  0%|          | 0/1875 [00:00<?, ?it/s]"
      ]
     },
     "metadata": {},
     "output_type": "display_data"
    },
    {
     "data": {
      "application/vnd.jupyter.widget-view+json": {
       "model_id": "f243302c1997426c8adf7a866b3b9ec8",
       "version_major": 2,
       "version_minor": 0
      },
      "text/plain": [
       "  0%|          | 0/1875 [00:00<?, ?it/s]"
      ]
     },
     "metadata": {},
     "output_type": "display_data"
    },
    {
     "data": {
      "application/vnd.jupyter.widget-view+json": {
       "model_id": "1fd61208946e4790ad5b5b7b49fa5636",
       "version_major": 2,
       "version_minor": 0
      },
      "text/plain": [
       "  0%|          | 0/1875 [00:00<?, ?it/s]"
      ]
     },
     "metadata": {},
     "output_type": "display_data"
    },
    {
     "data": {
      "application/vnd.jupyter.widget-view+json": {
       "model_id": "ebb1642497344781a774fcf5d1bcf9d6",
       "version_major": 2,
       "version_minor": 0
      },
      "text/plain": [
       "  0%|          | 0/1875 [00:00<?, ?it/s]"
      ]
     },
     "metadata": {},
     "output_type": "display_data"
    }
   ],
   "source": [
    "args = (config, model, noise_scheduler, optimizer, train_dataloader, lr_scheduler)\n",
    "\n",
    "accelerate.notebook_launcher(train_loop, args, num_processes=1)"
   ]
  },
  {
   "cell_type": "code",
   "execution_count": 19,
   "id": "6a2f9303",
   "metadata": {
    "ExecuteTime": {
     "end_time": "2022-09-17T19:07:16.288015Z",
     "start_time": "2022-09-17T19:07:16.282194Z"
    }
   },
   "outputs": [],
   "source": [
    "pipeline = diffusers.DDPMPipeline(unet=model,scheduler=noise_scheduler)"
   ]
  },
  {
   "cell_type": "markdown",
   "id": "297cd4a2",
   "metadata": {
    "ExecuteTime": {
     "end_time": "2022-09-13T01:05:04.543067Z",
     "start_time": "2022-09-13T01:05:04.539888Z"
    }
   },
   "source": [
    "## Create a sampling function"
   ]
  },
  {
   "cell_type": "code",
   "execution_count": 65,
   "id": "f0e0c087",
   "metadata": {
    "ExecuteTime": {
     "end_time": "2022-09-17T19:32:15.371105Z",
     "start_time": "2022-09-17T19:32:15.366387Z"
    }
   },
   "outputs": [],
   "source": [
    "@torch.no_grad()\n",
    "def sample(unet, scheduler,seed,save_process_dir=None):\n",
    "    torch.manual_seed(seed)\n",
    "    \n",
    "    if save_process_dir:\n",
    "        if not os.path.exists(save_process_dir):\n",
    "            os.mkdir(save_process_dir)\n",
    "    \n",
    "    scheduler.set_timesteps(1000)\n",
    "    image=torch.randn((1,1,32,32)).to(model.device)\n",
    "    num_steps=max(noise_scheduler.timesteps).numpy()\n",
    "    \n",
    "    for t in noise_scheduler.timesteps:\n",
    "        model_output=unet(image,t)['sample']\n",
    "        image=scheduler.step(model_output,int(t),image,generator=None)['prev_sample']\n",
    "        if save_process_dir:\n",
    "            save_image=torchvision.transforms.ToPILImage()(image.squeeze(0))\n",
    "            save_image.resize((256,256)).save(\n",
    "                os.path.join(save_process_dir,\"seed-\"+str(seed)+\"_\"+f\"{num_steps-t.numpy():03d}\"+\".png\"),format=\"png\")\n",
    "        \n",
    "    return torchvision.transforms.ToPILImage()(image.squeeze(0))"
   ]
  },
  {
   "cell_type": "markdown",
   "id": "f13ba2ee",
   "metadata": {},
   "source": [
    "## Sample some good looking digits!"
   ]
  },
  {
   "cell_type": "code",
   "execution_count": 66,
   "id": "40009557",
   "metadata": {
    "ExecuteTime": {
     "end_time": "2022-09-17T19:32:25.769049Z",
     "start_time": "2022-09-17T19:32:15.664468Z"
    },
    "scrolled": true
   },
   "outputs": [
    {
     "data": {
      "image/png": "[encoded data removed]",
      "text/plain": [
       "<PIL.Image.Image image mode=L size=265x256>"
      ]
     },
     "execution_count": 66,
     "metadata": {},
     "output_type": "execute_result"
    }
   ],
   "source": [
    "test_image=sample(model,noise_scheduler,1,\"output_1\")\n",
    "test_image.resize((265,256))"
   ]
  },
  {
   "cell_type": "code",
   "execution_count": 69,
   "id": "b09df153",
   "metadata": {
    "ExecuteTime": {
     "end_time": "2022-09-17T19:34:36.706882Z",
     "start_time": "2022-09-17T19:34:30.225314Z"
    }
   },
   "outputs": [
    {
     "data": {
      "image/png": "[encoded data removed]",
      "text/plain": [
       "<PIL.Image.Image image mode=L size=256x256>"
      ]
     },
     "execution_count": 69,
     "metadata": {},
     "output_type": "execute_result"
    }
   ],
   "source": [
    "test_image=sample(model,noise_scheduler,5)\n",
    "test_image.resize((256,256))"
   ]
  },
  {
   "cell_type": "code",
   "execution_count": 72,
   "id": "17af6cf3",
   "metadata": {
    "ExecuteTime": {
     "end_time": "2022-09-17T19:36:54.846598Z",
     "start_time": "2022-09-17T19:36:49.213466Z"
    }
   },
   "outputs": [
    {
     "data": {
      "image/png": "[encoded data removed]",
      "text/plain": [
       "<PIL.Image.Image image mode=L size=256x256>"
      ]
     },
     "execution_count": 72,
     "metadata": {},
     "output_type": "execute_result"
    }
   ],
   "source": [
    "test_image=sample(model,noise_scheduler,1991)\n",
    "test_image.resize((256,256))"
   ]
  },
  {
   "cell_type": "code",
   "execution_count": null,
   "id": "a227f7d8",
   "metadata": {
    "ExecuteTime": {
     "end_time": "2022-09-12T23:00:56.629937Z",
     "start_time": "2022-09-12T23:00:56.624551Z"
    }
   },
   "outputs": [],
   "source": []
  },
  {
   "cell_type": "code",
   "execution_count": null,
   "id": "4b9baec7",
   "metadata": {
    "ExecuteTime": {
     "start_time": "2022-09-12T23:01:03.970Z"
    }
   },
   "outputs": [],
   "source": []
  },
  {
   "cell_type": "code",
   "execution_count": null,
   "id": "b20afc67",
   "metadata": {},
   "outputs": [],
   "source": []
  }
 ],
 "metadata": {
  "kernelspec": {
   "display_name": "Python 3 (ipykernel)",
   "language": "python",
   "name": "python3"
  },
  "language_info": {
   "codemirror_mode": {
    "name": "ipython",
    "version": 3
   },
   "file_extension": ".py",
   "mimetype": "text/x-python",
   "name": "python",
   "nbconvert_exporter": "python",
   "pygments_lexer": "ipython3",
   "version": "3.8.13"
  },
  "toc": {
   "base_numbering": 1,
   "nav_menu": {},
   "number_sections": false,
   "sideBar": true,
   "skip_h1_title": false,
   "title_cell": "Table of Contents",
   "title_sidebar": "Contents",
   "toc_cell": true,
   "toc_position": {},
   "toc_section_display": true,
   "toc_window_display": true
  }
 },
 "nbformat": 4,
 "nbformat_minor": 5
}
